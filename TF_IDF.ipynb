{
 "cells": [
  {
   "cell_type": "code",
   "execution_count": 1,
   "id": "d0d237a1-b773-4bed-ae1f-3f80d9641606",
   "metadata": {},
   "outputs": [
    {
     "name": "stdout",
     "output_type": "stream",
     "text": [
      "Word count Matrix:\n",
      " [[1 0 0 1 0 0 1 0 0 1 0 1]\n",
      " [0 1 0 0 0 1 0 1 1 0 0 0]\n",
      " [0 1 1 0 1 0 0 0 0 0 1 0]]\n",
      "Vocabulary:\n",
      " ['action' 'comedy' 'dialogues' 'effects' 'funny' 'heartwarming' 'movies'\n",
      " 'romantic' 'scenes' 'special' 'superhero' 'superheroes']\n",
      "\n",
      "Term frequency (TF):\n",
      " [[0.2  0.   0.   0.2  0.   0.   0.2  0.   0.   0.2  0.   0.2 ]\n",
      " [0.   0.25 0.   0.   0.   0.25 0.   0.25 0.25 0.   0.   0.  ]\n",
      " [0.   0.25 0.25 0.   0.25 0.   0.   0.   0.   0.   0.25 0.  ]]\n",
      "\n",
      "Document Frequency (DF):\n",
      " {'action': 1, 'comedy': 2, 'dialogues': 1, 'effects': 1, 'funny': 1, 'heartwarming': 1, 'movies': 1, 'romantic': 1, 'scenes': 1, 'special': 1, 'superhero': 1, 'superheroes': 1}\n",
      "\n",
      "Inverse Document Frequency (IDF):\n",
      " {'action': 1.6931471805599454, 'comedy': 1.2876820724517808, 'dialogues': 1.6931471805599454, 'effects': 1.6931471805599454, 'funny': 1.6931471805599454, 'heartwarming': 1.6931471805599454, 'movies': 1.6931471805599454, 'romantic': 1.6931471805599454, 'scenes': 1.6931471805599454, 'special': 1.6931471805599454, 'superhero': 1.6931471805599454, 'superheroes': 1.6931471805599454}\n",
      "\n",
      "TF-IDF Matrix:\n",
      " [[0.33862944 0.         0.         0.33862944 0.         0.\n",
      "  0.33862944 0.         0.         0.33862944 0.         0.33862944]\n",
      " [0.         0.32192052 0.         0.         0.         0.4232868\n",
      "  0.         0.4232868  0.4232868  0.         0.         0.        ]\n",
      " [0.         0.32192052 0.4232868  0.         0.4232868  0.\n",
      "  0.         0.         0.         0.         0.4232868  0.        ]]\n",
      "\n",
      "Document 1:\n",
      "action:0.339\n",
      "comedy:0.000\n",
      "dialogues:0.000\n",
      "effects:0.339\n",
      "funny:0.000\n",
      "heartwarming:0.000\n",
      "movies:0.339\n",
      "romantic:0.000\n",
      "scenes:0.000\n",
      "special:0.339\n",
      "superhero:0.000\n",
      "superheroes:0.339\n",
      "\n",
      "Document 2:\n",
      "action:0.000\n",
      "comedy:0.322\n",
      "dialogues:0.000\n",
      "effects:0.000\n",
      "funny:0.000\n",
      "heartwarming:0.423\n",
      "movies:0.000\n",
      "romantic:0.423\n",
      "scenes:0.423\n",
      "special:0.000\n",
      "superhero:0.000\n",
      "superheroes:0.000\n",
      "\n",
      "Document 3:\n",
      "action:0.000\n",
      "comedy:0.322\n",
      "dialogues:0.423\n",
      "effects:0.000\n",
      "funny:0.423\n",
      "heartwarming:0.000\n",
      "movies:0.000\n",
      "romantic:0.000\n",
      "scenes:0.000\n",
      "special:0.000\n",
      "superhero:0.423\n",
      "superheroes:0.000\n"
     ]
    }
   ],
   "source": [
    "from sklearn.feature_extraction.text import CountVectorizer\n",
    "import numpy as np\n",
    "\n",
    "documents=[\"Action movies with superheroes and special effects.\",\n",
    "           \"Romantic comedy with heartwarming scenes.\",\n",
    "           \"Superhero comedy with funny dialogues.\"]\n",
    "\n",
    "vectorizer=CountVectorizer(stop_words='english')\n",
    "word_count_matrix=vectorizer.fit_transform(documents)\n",
    "terms=vectorizer.get_feature_names_out()\n",
    "\n",
    "print(\"Word count Matrix:\\n\",word_count_matrix.toarray())\n",
    "print(\"Vocabulary:\\n\",terms)\n",
    "\n",
    "tf=word_count_matrix.toarray()/np.sum(word_count_matrix.toarray(),axis=1,keepdims=True)\n",
    "print(\"\\nTerm frequency (TF):\\n\",tf)\n",
    "\n",
    "df=np.sum(word_count_matrix.toarray() >0,axis=0)\n",
    "print(\"\\nDocument Frequency (DF):\\n\",dict(zip(terms,df)))\n",
    "\n",
    "idf=np.log((1+len(documents))/(1+df))+1\n",
    "print(\"\\nInverse Document Frequency (IDF):\\n\",dict(zip(terms,idf)))\n",
    "\n",
    "tf_idf=tf*idf\n",
    "print(\"\\nTF-IDF Matrix:\\n\",tf_idf)\n",
    "\n",
    "for i, doc in enumerate(documents):\n",
    "    print(f\"\\nDocument {i+1}:\")\n",
    "    for term, score in zip(terms,tf_idf[i]):\n",
    "        print(f\"{term}:{score:.3f}\")"
   ]
  },
  {
   "cell_type": "markdown",
   "id": "80c855ed-e905-458b-bbb0-83a0f47aba16",
   "metadata": {},
   "source": [
    "Cosine similarity"
   ]
  },
  {
   "cell_type": "code",
   "execution_count": 5,
   "id": "15e0b5e3-9971-4447-b203-69050a799b8f",
   "metadata": {},
   "outputs": [
    {
     "name": "stdout",
     "output_type": "stream",
     "text": [
      "Cosine Similarity Matrix:\n",
      "[[1.         0.         0.        ]\n",
      " [0.         1.         0.16163636]\n",
      " [0.         0.16163636 1.        ]]\n"
     ]
    }
   ],
   "source": [
    "from sklearn.metrics.pairwise import cosine_similarity\n",
    "cosine_sim_matrix=cosine_similarity(tf_idf, tf_idf)\n",
    "\n",
    "print(\"Cosine Similarity Matrix:\")\n",
    "print(cosine_sim_matrix)"
   ]
  }
 ],
 "metadata": {
  "kernelspec": {
   "display_name": "Python 3 (ipykernel)",
   "language": "python",
   "name": "python3"
  },
  "language_info": {
   "codemirror_mode": {
    "name": "ipython",
    "version": 3
   },
   "file_extension": ".py",
   "mimetype": "text/x-python",
   "name": "python",
   "nbconvert_exporter": "python",
   "pygments_lexer": "ipython3",
   "version": "3.12.7"
  }
 },
 "nbformat": 4,
 "nbformat_minor": 5
}
